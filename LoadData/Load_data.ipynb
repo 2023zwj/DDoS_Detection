{
 "cells": [
  {
   "cell_type": "markdown",
   "metadata": {},
   "source": [
    "### CICDDoS2019数据集预处理\n",
    "\n",
    "- 于2024年7月9日创建\n",
    "- 预处理思路：\n",
    "    1. 按照论文相关步骤得到与分类最相关的25种标签；\n",
    "    2. 构建平衡数据集"
   ]
  },
  {
   "cell_type": "code",
   "execution_count": 1,
   "metadata": {},
   "outputs": [],
   "source": [
    "from tqdm import tqdm\n",
    "import pandas as pd\n",
    "import random\n",
    "import warnings\n",
    "from sklearn.feature_selection import SelectKBest, f_classif\n",
    "from sklearn.preprocessing import LabelEncoder\n",
    "import numpy as np"
   ]
  },
  {
   "cell_type": "code",
   "execution_count": 2,
   "metadata": {},
   "outputs": [],
   "source": [
    "# 忽略所有警告\n",
    "warnings.filterwarnings('ignore')"
   ]
  },
  {
   "cell_type": "code",
   "execution_count": 3,
   "metadata": {},
   "outputs": [
    {
     "name": "stderr",
     "output_type": "stream",
     "text": [
      "100%|██████████| 2113234/2113234 [05:50<00:00, 6020.96it/s]\n"
     ]
    }
   ],
   "source": [
    "# 采样LDAP.csv\n",
    "Data_LDAP = pd.read_csv('../CICDDoS2019/LDAP.csv')\n",
    "\n",
    "count = 0 # 统计元组数量\n",
    "LDAP_list = []\n",
    "UNBENIGN_list = []\n",
    "for i in tqdm(range(len(Data_LDAP))):\n",
    "    if Data_LDAP[\" Label\"][i] == 'BENIGN':\n",
    "        LDAP_list.append(Data_LDAP.loc[i])\n",
    "        count = count + 1 #计数\n",
    "    else:\n",
    "        UNBENIGN_list.append(Data_LDAP.loc[i])\n",
    "\n",
    "random.shuffle(UNBENIGN_list) # 随机打乱\n",
    "for index in range(count):\n",
    "    LDAP_list.append(UNBENIGN_list[index])"
   ]
  },
  {
   "cell_type": "code",
   "execution_count": 4,
   "metadata": {},
   "outputs": [
    {
     "name": "stderr",
     "output_type": "stream",
     "text": [
      "100%|██████████| 5775786/5775786 [15:28<00:00, 6219.58it/s]  \n"
     ]
    }
   ],
   "source": [
    "# 采样MSSQL.csv\n",
    "Data_MSSQL = pd.read_csv('../CICDDoS2019/MSSQL.csv')\n",
    "\n",
    "count = 0 # 统计元组数量\n",
    "MSSQL_list = []\n",
    "UNBENIGN_list = []\n",
    "for i in tqdm(range(len(Data_MSSQL))):\n",
    "    if Data_MSSQL[\" Label\"][i] == 'BENIGN':\n",
    "        MSSQL_list.append(Data_MSSQL.loc[i])\n",
    "        count = count + 1 #计数\n",
    "    else:\n",
    "        UNBENIGN_list.append(Data_MSSQL.loc[i])\n",
    "\n",
    "random.shuffle(UNBENIGN_list) # 随机打乱\n",
    "for index in range(count):\n",
    "    MSSQL_list.append(UNBENIGN_list[index])"
   ]
  },
  {
   "cell_type": "code",
   "execution_count": 5,
   "metadata": {},
   "outputs": [
    {
     "name": "stderr",
     "output_type": "stream",
     "text": [
      "100%|██████████| 3455899/3455899 [09:25<00:00, 6108.46it/s] \n"
     ]
    }
   ],
   "source": [
    "# 采样NetBIOS.csv\n",
    "Data_NetBIOS = pd.read_csv('../CICDDoS2019/NetBIOS.csv')\n",
    "\n",
    "count = 0 # 统计元组数量\n",
    "NetBIOS_list = []\n",
    "UNBENIGN_list = []\n",
    "for i in tqdm(range(len(Data_NetBIOS))):\n",
    "    if Data_NetBIOS[\" Label\"][i] == 'BENIGN':\n",
    "        NetBIOS_list.append(Data_NetBIOS.loc[i])\n",
    "        count = count + 1 #计数\n",
    "    else:\n",
    "        UNBENIGN_list.append(Data_NetBIOS.loc[i])\n",
    "\n",
    "random.shuffle(UNBENIGN_list) # 随机打乱\n",
    "for index in range(count):\n",
    "    NetBIOS_list.append(UNBENIGN_list[index])"
   ]
  },
  {
   "cell_type": "code",
   "execution_count": 6,
   "metadata": {},
   "outputs": [
    {
     "name": "stderr",
     "output_type": "stream",
     "text": [
      "100%|██████████| 191694/191694 [00:27<00:00, 6975.74it/s]\n"
     ]
    }
   ],
   "source": [
    "# 采样Portmap.csv\n",
    "Data_Portmap = pd.read_csv('../CICDDoS2019/Portmap.csv')\n",
    "\n",
    "count = 0 # 统计元组数量\n",
    "Portmap_list = []\n",
    "UNBENIGN_list = []\n",
    "for i in tqdm(range(len(Data_Portmap))):\n",
    "    if Data_Portmap[\" Label\"][i] == 'BENIGN':\n",
    "        Portmap_list.append(Data_Portmap.loc[i])\n",
    "        count = count + 1 #计数\n",
    "    else:\n",
    "        UNBENIGN_list.append(Data_Portmap.loc[i])\n",
    "\n",
    "random.shuffle(UNBENIGN_list) # 随机打乱\n",
    "for index in range(count):\n",
    "    Portmap_list.append(UNBENIGN_list[index]) "
   ]
  },
  {
   "cell_type": "code",
   "execution_count": 7,
   "metadata": {},
   "outputs": [
    {
     "name": "stderr",
     "output_type": "stream",
     "text": [
      "100%|██████████| 4320541/4320541 [11:35<00:00, 6216.60it/s] \n"
     ]
    }
   ],
   "source": [
    "# 采样Syn.csv\n",
    "Data_Syn = pd.read_csv('../CICDDoS2019/Syn.csv')\n",
    "\n",
    "count = 0 # 统计元组数量\n",
    "Syn_list = []\n",
    "UNBENIGN_list = []\n",
    "for i in tqdm(range(len(Data_Syn))):\n",
    "    if Data_Syn[\" Label\"][i] == 'BENIGN':\n",
    "        Syn_list.append(Data_Syn.loc[i])\n",
    "        count = count + 1 #计数\n",
    "    else:\n",
    "        UNBENIGN_list.append(Data_Syn.loc[i])\n",
    "\n",
    "random.shuffle(UNBENIGN_list) # 随机打乱\n",
    "for index in range(count):\n",
    "    Syn_list.append(UNBENIGN_list[index])"
   ]
  },
  {
   "cell_type": "code",
   "execution_count": 8,
   "metadata": {},
   "outputs": [
    {
     "name": "stderr",
     "output_type": "stream",
     "text": [
      "100%|██████████| 3782206/3782206 [10:26<00:00, 6032.47it/s] \n"
     ]
    }
   ],
   "source": [
    "# 采样UDP.csv\n",
    "Data_UDP = pd.read_csv('../CICDDoS2019/UDP.csv')\n",
    "\n",
    "count = 0 # 统计元组数量\n",
    "UDP_list = []\n",
    "UNBENIGN_list = []\n",
    "for i in tqdm(range(len(Data_UDP))):\n",
    "    if Data_UDP[\" Label\"][i] == 'BENIGN':\n",
    "        UDP_list.append(Data_UDP.loc[i])\n",
    "        count = count + 1 #计数\n",
    "    else:\n",
    "        UNBENIGN_list.append(Data_UDP.loc[i])\n",
    "\n",
    "random.shuffle(UNBENIGN_list) # 随机打乱\n",
    "for index in range(count):\n",
    "    UDP_list.append(UNBENIGN_list[index])"
   ]
  },
  {
   "cell_type": "code",
   "execution_count": 9,
   "metadata": {},
   "outputs": [
    {
     "name": "stderr",
     "output_type": "stream",
     "text": [
      " 14%|█▍        | 101694/725165 [00:17<01:39, 6294.30it/s]"
     ]
    },
    {
     "name": "stderr",
     "output_type": "stream",
     "text": [
      "100%|██████████| 725165/725165 [02:08<00:00, 5657.04it/s]\n"
     ]
    }
   ],
   "source": [
    "# 采样UDPLag.csv\n",
    "Data_UDPLag = pd.read_csv('../CICDDoS2019/UDPLag.csv')\n",
    "\n",
    "count = 0 # 统计元组数量\n",
    "UDPLag_list = []\n",
    "UNBENIGN_list = []\n",
    "for i in tqdm(range(len(Data_UDPLag))):\n",
    "    if Data_UDPLag[\" Label\"][i] == 'BENIGN':\n",
    "        UDPLag_list.append(Data_UDPLag.loc[i])\n",
    "        count = count + 1 #计数\n",
    "    else:\n",
    "        UNBENIGN_list.append(Data_UDPLag.loc[i])\n",
    "\n",
    "random.shuffle(UNBENIGN_list) # 随机打乱\n",
    "for index in range(count):\n",
    "    UDPLag_list.append(UNBENIGN_list[index])"
   ]
  },
  {
   "cell_type": "code",
   "execution_count": 10,
   "metadata": {},
   "outputs": [
    {
     "name": "stdout",
     "output_type": "stream",
     "text": [
      "227860\n"
     ]
    }
   ],
   "source": [
    "Data_list = LDAP_list + MSSQL_list + NetBIOS_list + Portmap_list + Syn_list + UDP_list + UDPLag_list\n",
    "\n",
    "Data_list += Data_list  # 按论文要求数据扩大一倍\n",
    "\n",
    "random.shuffle(Data_list) # 随机打乱\n",
    "\n",
    "print(len(Data_list)) # 平衡数据集总数据量"
   ]
  },
  {
   "cell_type": "code",
   "execution_count": 11,
   "metadata": {},
   "outputs": [],
   "source": [
    "feature = pd.DataFrame(Data_list)\n",
    "feature = feature.reset_index(drop=True)\n",
    "\n",
    "for attribute in feature.columns:\n",
    "    attributes = feature[attribute].apply(type) # 同一列属性类型\n",
    "    flag = attributes.unique()\n",
    "    if len(flag) != 1:\n",
    "        feature[attribute] = feature[attribute].astype(str)\n",
    "\n",
    "\n",
    "for attribute in feature.columns:\n",
    "    if feature[attribute].dtype == 'object' and attribute != ' Label':\n",
    "        le = LabelEncoder()\n",
    "        feature[attribute] = le.fit_transform(feature[attribute])\n",
    "\n",
    "selector = SelectKBest(score_func=f_classif, k=25) # 选择Top25特征\n",
    "\n",
    "feature = feature.dropna() # 缺失值处理策略：删除含缺失值的行\n",
    "feature = feature[~feature.isin([np.inf, -np.inf]).any(axis=1)]\n",
    "feature = feature.reset_index(drop=True)\n"
   ]
  },
  {
   "cell_type": "code",
   "execution_count": 12,
   "metadata": {},
   "outputs": [],
   "source": [
    "X = feature.drop(columns=' Label') # 分离标签数据\n",
    "Y = feature[' Label']"
   ]
  },
  {
   "cell_type": "code",
   "execution_count": 13,
   "metadata": {},
   "outputs": [
    {
     "name": "stderr",
     "output_type": "stream",
     "text": [
      "100%|██████████| 220154/220154 [00:52<00:00, 4166.87it/s]\n"
     ]
    }
   ],
   "source": [
    "# 设置标签为二分类\n",
    "for i in tqdm(range(len(Y))):\n",
    "    if Y[i] == 'BENIGN':\n",
    "        Y[i] = int(0) # 正样本为0\n",
    "    else:\n",
    "        Y[i] = int(1) # 负样本为1\n",
    "\n",
    "X = selector.fit_transform(X, Y)"
   ]
  },
  {
   "cell_type": "code",
   "execution_count": 14,
   "metadata": {},
   "outputs": [
    {
     "data": {
      "text/plain": [
       " Label\n",
       "0    112612\n",
       "1    107542\n",
       "Name: count, dtype: int64"
      ]
     },
     "execution_count": 14,
     "metadata": {},
     "output_type": "execute_result"
    }
   ],
   "source": [
    "Count = Y.value_counts()\n",
    "\n",
    "Count"
   ]
  },
  {
   "cell_type": "code",
   "execution_count": 15,
   "metadata": {},
   "outputs": [
    {
     "data": {
      "text/plain": [
       "Index(['Unnamed: 0', 'Flow ID', ' Source IP', ' Source Port',\n",
       "       ' Destination IP', ' Destination Port', ' Timestamp',\n",
       "       ' Fwd Packet Length Min', 'Bwd Packet Length Max',\n",
       "       ' Bwd Packet Length Min', ' Bwd Packet Length Mean', 'Flow Bytes/s',\n",
       "       ' Flow Packets/s', 'Fwd PSH Flags', 'Fwd Packets/s',\n",
       "       ' Min Packet Length', ' Packet Length Std', ' RST Flag Count',\n",
       "       ' ACK Flag Count', ' URG Flag Count', ' CWE Flag Count',\n",
       "       ' Down/Up Ratio', ' Avg Fwd Segment Size', ' Avg Bwd Segment Size',\n",
       "       ' Inbound'],\n",
       "      dtype='object')"
      ]
     },
     "execution_count": 15,
     "metadata": {},
     "output_type": "execute_result"
    }
   ],
   "source": [
    "# 获取所选特征的布尔掩码\n",
    "mask = selector.get_support(indices=True)\n",
    "\n",
    "# 获取所选特征的名称\n",
    "selected_features = feature.columns[mask]\n",
    "\n",
    "selected_features"
   ]
  },
  {
   "cell_type": "code",
   "execution_count": 16,
   "metadata": {},
   "outputs": [],
   "source": [
    "# 保存数据\n",
    "np.savez(\n",
    "    \"../CICDDoS2019/Data\",\n",
    "    x=X,\n",
    "    y=Y,\n",
    ")"
   ]
  }
 ],
 "metadata": {
  "kernelspec": {
   "display_name": "base",
   "language": "python",
   "name": "python3"
  },
  "language_info": {
   "codemirror_mode": {
    "name": "ipython",
    "version": 3
   },
   "file_extension": ".py",
   "mimetype": "text/x-python",
   "name": "python",
   "nbconvert_exporter": "python",
   "pygments_lexer": "ipython3",
   "version": "3.8.10"
  }
 },
 "nbformat": 4,
 "nbformat_minor": 2
}
